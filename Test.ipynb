{
 "cells": [
  {
   "cell_type": "markdown",
   "id": "cb7e3239",
   "metadata": {},
   "source": [
    "Python Data Cleaning & Text Manipulation Workshop\n",
    "Author: Saina Sheini"
   ]
  },
  {
   "cell_type": "markdown",
   "id": "1c58a274",
   "metadata": {},
   "source": [
    "1. Load & Inspect the Data"
   ]
  },
  {
   "cell_type": "code",
   "execution_count": 2,
   "id": "ecc1a036",
   "metadata": {},
   "outputs": [
    {
     "data": {
      "text/html": [
       "<div>\n",
       "<style scoped>\n",
       "    .dataframe tbody tr th:only-of-type {\n",
       "        vertical-align: middle;\n",
       "    }\n",
       "\n",
       "    .dataframe tbody tr th {\n",
       "        vertical-align: top;\n",
       "    }\n",
       "\n",
       "    .dataframe thead th {\n",
       "        text-align: right;\n",
       "    }\n",
       "</style>\n",
       "<table border=\"1\" class=\"dataframe\">\n",
       "  <thead>\n",
       "    <tr style=\"text-align: right;\">\n",
       "      <th></th>\n",
       "      <th>1</th>\n",
       "      <th>2003</th>\n",
       "      <th>Dinosaur Planet</th>\n",
       "    </tr>\n",
       "  </thead>\n",
       "  <tbody>\n",
       "    <tr>\n",
       "      <th>0</th>\n",
       "      <td>2</td>\n",
       "      <td>2004.0</td>\n",
       "      <td>Isle of Man TT 2004 Review</td>\n",
       "    </tr>\n",
       "    <tr>\n",
       "      <th>1</th>\n",
       "      <td>3</td>\n",
       "      <td>1997.0</td>\n",
       "      <td>Character</td>\n",
       "    </tr>\n",
       "    <tr>\n",
       "      <th>2</th>\n",
       "      <td>4</td>\n",
       "      <td>1994.0</td>\n",
       "      <td>Paula Abdul's Get Up &amp; Dance</td>\n",
       "    </tr>\n",
       "    <tr>\n",
       "      <th>3</th>\n",
       "      <td>5</td>\n",
       "      <td>2004.0</td>\n",
       "      <td>The Rise and Fall of ECW</td>\n",
       "    </tr>\n",
       "    <tr>\n",
       "      <th>4</th>\n",
       "      <td>6</td>\n",
       "      <td>1997.0</td>\n",
       "      <td>Sick</td>\n",
       "    </tr>\n",
       "  </tbody>\n",
       "</table>\n",
       "</div>"
      ],
      "text/plain": [
       "   1    2003               Dinosaur Planet\n",
       "0  2  2004.0    Isle of Man TT 2004 Review\n",
       "1  3  1997.0                     Character\n",
       "2  4  1994.0  Paula Abdul's Get Up & Dance\n",
       "3  5  2004.0      The Rise and Fall of ECW\n",
       "4  6  1997.0                          Sick"
      ]
     },
     "execution_count": 2,
     "metadata": {},
     "output_type": "execute_result"
    }
   ],
   "source": [
    "# Python Data Cleaning & Text Manipulation Workshop\n",
    "# Author: Saina Sheini\n",
    "\n",
    "import pandas as pd\n",
    "# to see what your working directory is, uncomment the next two lines:\n",
    "# import os\n",
    "# print(os.getcwd())\n",
    "#\n",
    "# For this lesson, assume you have a CSV called 'movie_titles.csv' in the same folder.\n",
    "# Q1. Load the file with the correct encoding (latin1), and show the first 5 rows.\n",
    "df = pd.read_csv(\"movie_titles.csv\", encoding=\"latin1\", on_bad_lines=\"skip\")\n",
    "df.head()"
   ]
  },
  {
   "cell_type": "markdown",
   "id": "27c95705",
   "metadata": {},
   "source": []
  },
  {
   "cell_type": "code",
   "execution_count": 3,
   "id": "5e9a3297",
   "metadata": {},
   "outputs": [
    {
     "name": "stdout",
     "output_type": "stream",
     "text": [
      "Index(['1', '2003', 'Dinosaur Planet'], dtype='object')\n"
     ]
    },
    {
     "data": {
      "text/html": [
       "<div>\n",
       "<style scoped>\n",
       "    .dataframe tbody tr th:only-of-type {\n",
       "        vertical-align: middle;\n",
       "    }\n",
       "\n",
       "    .dataframe tbody tr th {\n",
       "        vertical-align: top;\n",
       "    }\n",
       "\n",
       "    .dataframe thead th {\n",
       "        text-align: right;\n",
       "    }\n",
       "</style>\n",
       "<table border=\"1\" class=\"dataframe\">\n",
       "  <thead>\n",
       "    <tr style=\"text-align: right;\">\n",
       "      <th></th>\n",
       "      <th>ID</th>\n",
       "      <th>Year</th>\n",
       "      <th>Title</th>\n",
       "    </tr>\n",
       "  </thead>\n",
       "  <tbody>\n",
       "    <tr>\n",
       "      <th>0</th>\n",
       "      <td>2</td>\n",
       "      <td>2004.0</td>\n",
       "      <td>Isle of Man TT 2004 Review</td>\n",
       "    </tr>\n",
       "    <tr>\n",
       "      <th>1</th>\n",
       "      <td>3</td>\n",
       "      <td>1997.0</td>\n",
       "      <td>Character</td>\n",
       "    </tr>\n",
       "    <tr>\n",
       "      <th>2</th>\n",
       "      <td>4</td>\n",
       "      <td>1994.0</td>\n",
       "      <td>Paula Abdul's Get Up &amp; Dance</td>\n",
       "    </tr>\n",
       "    <tr>\n",
       "      <th>3</th>\n",
       "      <td>5</td>\n",
       "      <td>2004.0</td>\n",
       "      <td>The Rise and Fall of ECW</td>\n",
       "    </tr>\n",
       "    <tr>\n",
       "      <th>4</th>\n",
       "      <td>6</td>\n",
       "      <td>1997.0</td>\n",
       "      <td>Sick</td>\n",
       "    </tr>\n",
       "  </tbody>\n",
       "</table>\n",
       "</div>"
      ],
      "text/plain": [
       "   ID    Year                         Title\n",
       "0   2  2004.0    Isle of Man TT 2004 Review\n",
       "1   3  1997.0                     Character\n",
       "2   4  1994.0  Paula Abdul's Get Up & Dance\n",
       "3   5  2004.0      The Rise and Fall of ECW\n",
       "4   6  1997.0                          Sick"
      ]
     },
     "execution_count": 3,
     "metadata": {},
     "output_type": "execute_result"
    }
   ],
   "source": [
    "# Q2. Rename the columns to: 'Year', 'Title'\n",
    "# What columns do I have?\n",
    "print(df.columns)\n",
    "#Rename the columns\n",
    "df.columns = [\"ID\", \"Year\", \"Title\"]\n",
    "df.head()"
   ]
  },
  {
   "cell_type": "code",
   "execution_count": 29,
   "id": "b5eac13a",
   "metadata": {},
   "outputs": [
    {
     "name": "stdout",
     "output_type": "stream",
     "text": [
      "(17433, 3)\n"
     ]
    }
   ],
   "source": [
    "# Q3. What is the shape of the dataset?\n",
    "print(df.shape)"
   ]
  },
  {
   "cell_type": "code",
   "execution_count": 4,
   "id": "9c4b76e2",
   "metadata": {},
   "outputs": [
    {
     "name": "stdout",
     "output_type": "stream",
     "text": [
      "ID       0\n",
      "Year     7\n",
      "Title    0\n",
      "dtype: int64\n"
     ]
    }
   ],
   "source": [
    "# Q4. Are there any missing values? If so, replace na values with mode\n",
    "print(df.isnull().sum())\n",
    "df = df.fillna(df['Year'].mode()[0])"
   ]
  },
  {
   "cell_type": "code",
   "execution_count": 30,
   "id": "c6ef0e34",
   "metadata": {},
   "outputs": [
    {
     "name": "stdout",
     "output_type": "stream",
     "text": [
      "ID         int64\n",
      "Year     float64\n",
      "Title     object\n",
      "dtype: object\n"
     ]
    }
   ],
   "source": [
    "# While you're here, check the column types too\n",
    "print(df.dtypes)"
   ]
  },
  {
   "cell_type": "code",
   "execution_count": 31,
   "id": "124c9dea",
   "metadata": {},
   "outputs": [
    {
     "name": "stdout",
     "output_type": "stream",
     "text": [
      "1896.0 2005.0\n"
     ]
    }
   ],
   "source": [
    "# Q5. What are the earliest and latest years in the dataset?\n",
    "print(df['Year'].min(), df['Year'].max())"
   ]
  },
  {
   "cell_type": "markdown",
   "id": "b1159322",
   "metadata": {},
   "source": [
    "2. Clean the Text\n"
   ]
  },
  {
   "cell_type": "code",
   "execution_count": 5,
   "id": "380ca060",
   "metadata": {},
   "outputs": [],
   "source": [
    "# Q6. Strip leading and trailing whitespace from all movie titles.\n",
    "df['Title'] = df['Title'].str.strip()"
   ]
  },
  {
   "cell_type": "code",
   "execution_count": 36,
   "id": "88512903",
   "metadata": {},
   "outputs": [],
   "source": [
    "# Q7. Standardize the titles: make them all lowercase.\n",
    "df['Title'] = df['Title'].str.lower()"
   ]
  },
  {
   "cell_type": "code",
   "execution_count": null,
   "id": "05797d0c",
   "metadata": {},
   "outputs": [],
   "source": [
    "# Q8. Remove any non-ASCII characters (like é, ’, etc.) from the 'Title' column.\n",
    "import re\n",
    "df['Title'] = df['Title'].apply(lambda x: re.sub(r'[^\\x00-\\x7F]+', '', x)) # lambda function is your best friend!\n",
    "#\\x00-\\x7F is the range of ASCII characters (standard English characters, numbers, and symbols)\n"
   ]
  },
  {
   "cell_type": "markdown",
   "id": "4be64ed0",
   "metadata": {},
   "source": [
    "3. Parse Subtitles and Parts"
   ]
  },
  {
   "cell_type": "code",
   "execution_count": 9,
   "id": "829641b1",
   "metadata": {},
   "outputs": [
    {
     "name": "stdout",
     "output_type": "stream",
     "text": [
      "   ID    Year                         Title  Has_Subtitle\n",
      "0   2  2004.0    Isle of Man TT 2004 Review         False\n",
      "1   3  1997.0                     Character         False\n",
      "2   4  1994.0  Paula Abdul's Get Up & Dance         False\n",
      "3   5  2004.0      The Rise and Fall of ECW         False\n",
      "4   6  1997.0                          Sick         False\n"
     ]
    }
   ],
   "source": [
    "# Q9. Create a new column 'Has_Subtitle' that is True if the title contains a colon (:), False otherwise.\n",
    "colon = df['Title'].str.contains(':')\n",
    "df['Has_Subtitle'] = colon\n",
    "print(df.head())"
   ]
  },
  {
   "cell_type": "code",
   "execution_count": 10,
   "id": "1857d905",
   "metadata": {},
   "outputs": [
    {
     "name": "stdout",
     "output_type": "stream",
     "text": [
      "   ID    Year                         Title  Has_Subtitle  \\\n",
      "0   2  2004.0    Isle of Man TT 2004 Review         False   \n",
      "1   3  1997.0                     Character         False   \n",
      "2   4  1994.0  Paula Abdul's Get Up & Dance         False   \n",
      "3   5  2004.0      The Rise and Fall of ECW         False   \n",
      "4   6  1997.0                          Sick         False   \n",
      "\n",
      "                     Main_Title Subtitle  \n",
      "0    Isle of Man TT 2004 Review     None  \n",
      "1                     Character     None  \n",
      "2  Paula Abdul's Get Up & Dance     None  \n",
      "3      The Rise and Fall of ECW     None  \n",
      "4                          Sick     None  \n"
     ]
    }
   ],
   "source": [
    "# Q10. For titles with colons, split the title into 'Main_Title' and 'Subtitle'.\n",
    "df[['Main_Title', 'Subtitle']] = df['Title'].str.split(':', expand=True, n=1)\n",
    "print(df.head())"
   ]
  },
  {
   "cell_type": "code",
   "execution_count": null,
   "id": "618e5f82",
   "metadata": {},
   "outputs": [
    {
     "data": {
      "text/plain": [
       "np.int64(288)"
      ]
     },
     "execution_count": 11,
     "metadata": {},
     "output_type": "execute_result"
    }
   ],
   "source": [
    "# Q11. How many titles contain slashes (/)?\n",
    "df['Title'].str.contains('/').sum()"
   ]
  },
  {
   "cell_type": "code",
   "execution_count": 14,
   "id": "d7954f50",
   "metadata": {},
   "outputs": [
    {
     "name": "stdout",
     "output_type": "stream",
     "text": [
      "   ID    Year                         Title  Has_Subtitle  \\\n",
      "0   2  2004.0    Isle of Man TT 2004 Review         False   \n",
      "1   3  1997.0                     Character         False   \n",
      "2   4  1994.0  Paula Abdul's Get Up & Dance         False   \n",
      "3   5  2004.0      The Rise and Fall of ECW         False   \n",
      "4   6  1997.0                          Sick         False   \n",
      "\n",
      "                     Main_Title Subtitle                        Part_A Part_B  \n",
      "0    Isle of Man TT 2004 Review     None    Isle of Man TT 2004 Review   None  \n",
      "1                     Character     None                     Character   None  \n",
      "2  Paula Abdul's Get Up & Dance     None  Paula Abdul's Get Up & Dance   None  \n",
      "3      The Rise and Fall of ECW     None      The Rise and Fall of ECW   None  \n",
      "4                          Sick     None                          Sick   None  \n"
     ]
    }
   ],
   "source": [
    "# Q12. For those with slashes, split into 'Part_A' and 'Part_B'.\n",
    "df[['Part_A', 'Part_B']] = df['Title'].str.split('/', expand=True, n = 1)\n",
    "print(df.head())"
   ]
  },
  {
   "cell_type": "markdown",
   "id": "0b153c62",
   "metadata": {},
   "source": [
    "4. Extract Patterns & Create Features"
   ]
  },
  {
   "cell_type": "code",
   "execution_count": 19,
   "id": "47417342",
   "metadata": {},
   "outputs": [
    {
     "name": "stdout",
     "output_type": "stream",
     "text": [
      "   ID    Year                         Title  Has_Subtitle  \\\n",
      "0   2  2004.0    Isle of Man TT 2004 Review         False   \n",
      "1   3  1997.0                     Character         False   \n",
      "2   4  1994.0  Paula Abdul's Get Up & Dance         False   \n",
      "3   5  2004.0      The Rise and Fall of ECW         False   \n",
      "4   6  1997.0                          Sick         False   \n",
      "\n",
      "                     Main_Title Subtitle                        Part_A Part_B  \\\n",
      "0    Isle of Man TT 2004 Review     None    Isle of Man TT 2004 Review   None   \n",
      "1                     Character     None                     Character   None   \n",
      "2  Paula Abdul's Get Up & Dance     None  Paula Abdul's Get Up & Dance   None   \n",
      "3      The Rise and Fall of ECW     None      The Rise and Fall of ECW   None   \n",
      "4                          Sick     None                          Sick   None   \n",
      "\n",
      "   Word_Count  Word_COunt  \n",
      "0           6           6  \n",
      "1           1           1  \n",
      "2           6           6  \n",
      "3           6           6  \n",
      "4           1           1  \n"
     ]
    }
   ],
   "source": [
    "# Q13. Create a new column 'Word_Count' that counts how many words are in each title.\n",
    "\n",
    "df['Word_COunt'] = df['Title'].str.split().str.len()\n",
    "print(df.head())\n"
   ]
  },
  {
   "cell_type": "code",
   "execution_count": null,
   "id": "c4130881",
   "metadata": {},
   "outputs": [],
   "source": [
    "# Q14. Create a new column 'Title_Length' that counts how many characters are in each title.\n",
    "df['Title_Length'] = df['Title'].str.len()\n"
   ]
  },
  {
   "cell_type": "code",
   "execution_count": 23,
   "id": "03b7a40a",
   "metadata": {},
   "outputs": [
    {
     "name": "stdout",
     "output_type": "stream",
     "text": [
      "   ID    Year                         Title  Has_Subtitle  \\\n",
      "0   2  2004.0    Isle of Man TT 2004 Review         False   \n",
      "1   3  1997.0                     Character         False   \n",
      "2   4  1994.0  Paula Abdul's Get Up & Dance         False   \n",
      "3   5  2004.0      The Rise and Fall of ECW         False   \n",
      "4   6  1997.0                          Sick         False   \n",
      "\n",
      "                     Main_Title Subtitle                        Part_A Part_B  \\\n",
      "0    Isle of Man TT 2004 Review     None    Isle of Man TT 2004 Review   None   \n",
      "1                     Character     None                     Character   None   \n",
      "2  Paula Abdul's Get Up & Dance     None  Paula Abdul's Get Up & Dance   None   \n",
      "3      The Rise and Fall of ECW     None      The Rise and Fall of ECW   None   \n",
      "4                          Sick     None                          Sick   None   \n",
      "\n",
      "   Word_Count  Word_COunt  Title_Length  Contains_Number  \n",
      "0           6           6            26             True  \n",
      "1           1           1             9            False  \n",
      "2           6           6            28            False  \n",
      "3           6           6            24            False  \n",
      "4           1           1             4            False  \n"
     ]
    }
   ],
   "source": [
    "# Q15. Create a column 'Contains_Number' that is True if the title contains any digit.\n",
    "df['Contains_Number'] = df['Title'].str.contains(r'\\d')\n",
    "print(df.head())\n"
   ]
  },
  {
   "cell_type": "code",
   "execution_count": 29,
   "id": "9d9963d8",
   "metadata": {},
   "outputs": [
    {
     "name": "stdout",
     "output_type": "stream",
     "text": [
      "   ID  Year                         Title  Has_Subtitle  \\\n",
      "0   2  2004    Isle of Man TT 2004 Review         False   \n",
      "1   3  1997                     Character         False   \n",
      "2   4  1994  Paula Abdul's Get Up & Dance         False   \n",
      "3   5  2004      The Rise and Fall of ECW         False   \n",
      "4   6  1997                          Sick         False   \n",
      "\n",
      "                     Main_Title Subtitle                        Part_A Part_B  \\\n",
      "0    Isle of Man TT 2004 Review     None    Isle of Man TT 2004 Review   None   \n",
      "1                     Character     None                     Character   None   \n",
      "2  Paula Abdul's Get Up & Dance     None  Paula Abdul's Get Up & Dance   None   \n",
      "3      The Rise and Fall of ECW     None      The Rise and Fall of ECW   None   \n",
      "4                          Sick     None                          Sick   None   \n",
      "\n",
      "   Word_Count  Word_COunt  Title_Length  Contains_Number Decade  \n",
      "0           6           6            26             True  2000s  \n",
      "1           1           1             9            False  1990s  \n",
      "2           6           6            28            False  1990s  \n",
      "3           6           6            24            False  2000s  \n",
      "4           1           1             4            False  1990s  \n"
     ]
    }
   ],
   "source": [
    "# Q16. Create a 'Decade' column from the 'Year' column (e.g., 1994 → '1990s')\n",
    "df['Year'] = df['Year'].astype(int)\n",
    "df['Decade'] = ((df['Year'] // 10)* 10).astype(str) + 's'\n",
    "print(df.head())"
   ]
  },
  {
   "cell_type": "markdown",
   "id": "36ea7093",
   "metadata": {},
   "source": [
    "5. Light Analysis"
   ]
  },
  {
   "cell_type": "code",
   "execution_count": null,
   "id": "c42944e2",
   "metadata": {},
   "outputs": [],
   "source": [
    "# Q17. What are the 10 longest movie titles by word count?"
   ]
  },
  {
   "cell_type": "code",
   "execution_count": null,
   "id": "ac9d5a1f",
   "metadata": {},
   "outputs": [],
   "source": []
  },
  {
   "cell_type": "code",
   "execution_count": null,
   "id": "6a119b04",
   "metadata": {},
   "outputs": [],
   "source": [
    "# git add .\n",
    "# git commit -m \"Adds part 3\"\n",
    "# git push"
   ]
  },
  {
   "cell_type": "code",
   "execution_count": null,
   "id": "d428796d",
   "metadata": {},
   "outputs": [],
   "source": []
  },
  {
   "cell_type": "code",
   "execution_count": null,
   "id": "12824e7b",
   "metadata": {},
   "outputs": [],
   "source": [
    "# fclmvzm"
   ]
  },
  {
   "cell_type": "code",
   "execution_count": null,
   "id": "0d0c4246",
   "metadata": {},
   "outputs": [],
   "source": []
  },
  {
   "cell_type": "code",
   "execution_count": null,
   "id": "5725f131",
   "metadata": {},
   "outputs": [],
   "source": []
  },
  {
   "cell_type": "code",
   "execution_count": null,
   "id": "49e466a9",
   "metadata": {},
   "outputs": [],
   "source": []
  },
  {
   "cell_type": "code",
   "execution_count": null,
   "id": "03cccd53",
   "metadata": {},
   "outputs": [],
   "source": []
  },
  {
   "cell_type": "code",
   "execution_count": null,
   "id": "6cf2ae04",
   "metadata": {},
   "outputs": [],
   "source": []
  },
  {
   "cell_type": "code",
   "execution_count": null,
   "id": "02a1267a",
   "metadata": {},
   "outputs": [],
   "source": []
  },
  {
   "cell_type": "code",
   "execution_count": null,
   "id": "8ac237b9",
   "metadata": {},
   "outputs": [],
   "source": []
  },
  {
   "cell_type": "code",
   "execution_count": null,
   "id": "799a97af",
   "metadata": {},
   "outputs": [],
   "source": []
  },
  {
   "cell_type": "code",
   "execution_count": null,
   "id": "0528785c",
   "metadata": {},
   "outputs": [],
   "source": []
  },
  {
   "cell_type": "code",
   "execution_count": null,
   "id": "7160f25b",
   "metadata": {},
   "outputs": [],
   "source": []
  },
  {
   "cell_type": "code",
   "execution_count": null,
   "id": "c8fe43db",
   "metadata": {},
   "outputs": [],
   "source": []
  },
  {
   "cell_type": "code",
   "execution_count": null,
   "id": "7276e064",
   "metadata": {},
   "outputs": [],
   "source": []
  },
  {
   "cell_type": "code",
   "execution_count": null,
   "id": "e10ac805",
   "metadata": {},
   "outputs": [],
   "source": []
  },
  {
   "cell_type": "code",
   "execution_count": null,
   "id": "10180005",
   "metadata": {},
   "outputs": [],
   "source": []
  },
  {
   "cell_type": "code",
   "execution_count": null,
   "id": "0eaabe2b",
   "metadata": {},
   "outputs": [],
   "source": []
  },
  {
   "cell_type": "code",
   "execution_count": null,
   "id": "facc9425",
   "metadata": {},
   "outputs": [],
   "source": []
  },
  {
   "cell_type": "code",
   "execution_count": null,
   "id": "70453a6c",
   "metadata": {},
   "outputs": [],
   "source": []
  },
  {
   "cell_type": "code",
   "execution_count": null,
   "id": "14aa0d59",
   "metadata": {},
   "outputs": [],
   "source": []
  },
  {
   "cell_type": "code",
   "execution_count": null,
   "id": "403e1238",
   "metadata": {},
   "outputs": [],
   "source": []
  },
  {
   "cell_type": "code",
   "execution_count": null,
   "id": "45b25ba3",
   "metadata": {},
   "outputs": [],
   "source": []
  },
  {
   "cell_type": "code",
   "execution_count": null,
   "id": "ee218a2f",
   "metadata": {},
   "outputs": [],
   "source": []
  },
  {
   "cell_type": "code",
   "execution_count": null,
   "id": "7a65caa6",
   "metadata": {},
   "outputs": [],
   "source": []
  },
  {
   "cell_type": "code",
   "execution_count": null,
   "id": "8af82220",
   "metadata": {},
   "outputs": [],
   "source": []
  },
  {
   "cell_type": "code",
   "execution_count": null,
   "id": "65749573",
   "metadata": {},
   "outputs": [],
   "source": []
  },
  {
   "cell_type": "code",
   "execution_count": null,
   "id": "fdcdf758",
   "metadata": {},
   "outputs": [],
   "source": []
  },
  {
   "cell_type": "code",
   "execution_count": null,
   "id": "ee93876c",
   "metadata": {},
   "outputs": [],
   "source": []
  }
 ],
 "metadata": {
  "kernelspec": {
   "display_name": "base",
   "language": "python",
   "name": "python3"
  },
  "language_info": {
   "codemirror_mode": {
    "name": "ipython",
    "version": 3
   },
   "file_extension": ".py",
   "mimetype": "text/x-python",
   "name": "python",
   "nbconvert_exporter": "python",
   "pygments_lexer": "ipython3",
   "version": "3.13.5"
  }
 },
 "nbformat": 4,
 "nbformat_minor": 5
}
